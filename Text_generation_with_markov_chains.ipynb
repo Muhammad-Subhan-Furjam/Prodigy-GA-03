{
  "nbformat": 4,
  "nbformat_minor": 0,
  "metadata": {
    "colab": {
      "provenance": []
    },
    "kernelspec": {
      "name": "python3",
      "display_name": "Python 3"
    },
    "language_info": {
      "name": "python"
    }
  },
  "cells": [
    {
      "cell_type": "markdown",
      "source": [
        "Importing the dependencies"
      ],
      "metadata": {
        "id": "RaBJc6zHQLph"
      }
    },
    {
      "cell_type": "code",
      "source": [
        "import random\n",
        "import string"
      ],
      "metadata": {
        "id": "j6vfUUPi0TGb"
      },
      "execution_count": null,
      "outputs": []
    },
    {
      "cell_type": "markdown",
      "source": [
        "Text pre-processing"
      ],
      "metadata": {
        "id": "1X1h_bGQPrkS"
      }
    },
    {
      "cell_type": "code",
      "source": [
        "def text_cleaning(text):\n",
        "    translator = str.maketrans('', '', string.punctuation)\n",
        "    cleaned_text = text.translate(translator)\n",
        "    return cleaned_text.split()"
      ],
      "metadata": {
        "id": "pw0JfucP0VBM"
      },
      "execution_count": null,
      "outputs": []
    },
    {
      "cell_type": "markdown",
      "source": [
        "The Markov's chain model"
      ],
      "metadata": {
        "id": "Th82cOHwPvkZ"
      }
    },
    {
      "cell_type": "code",
      "source": [
        "def build_markov_chain(text):\n",
        "    words = text_cleaning(text)\n",
        "    markov_chain = {}\n",
        "    for i in range(len(words) - 1):\n",
        "        current_word = words[i]\n",
        "        next_word = words[i + 1]\n",
        "        if current_word in markov_chain:\n",
        "            markov_chain[current_word].append(next_word)\n",
        "        else:\n",
        "            markov_chain[current_word] = [next_word]\n",
        "    return markov_chain"
      ],
      "metadata": {
        "id": "BhPAUXTT0W3L"
      },
      "execution_count": null,
      "outputs": []
    },
    {
      "cell_type": "markdown",
      "source": [
        "Text generation"
      ],
      "metadata": {
        "id": "iTOv3V53Pzbt"
      }
    },
    {
      "cell_type": "code",
      "source": [
        "def generate_text(markov_chain, length=50):\n",
        "    current_word = random.choice(list(markov_chain.keys()))\n",
        "    generated_text = current_word\n",
        "    for _ in range(length):\n",
        "        next_word = random.choice(markov_chain.get(current_word, [\".\"]))  # Default to \".\" if key not found\n",
        "        generated_text += \" \" + next_word\n",
        "        current_word = next_word\n",
        "    return generated_text\n"
      ],
      "metadata": {
        "id": "CkZmRDup0Ysu"
      },
      "execution_count": null,
      "outputs": []
    },
    {
      "cell_type": "markdown",
      "source": [
        "Sample text"
      ],
      "metadata": {
        "id": "ym_fqM9YP41L"
      }
    },
    {
      "cell_type": "code",
      "source": [
        "text = \"The quick brown fox jumps over the lazy dog. The lazy dog barks at the fox.\"\n",
        "len(text)"
      ],
      "metadata": {
        "colab": {
          "base_uri": "https://localhost:8080/"
        },
        "id": "EQ7R1rxE0anI",
        "outputId": "c3285b26-1993-4388-bf4a-f91636ea4c59"
      },
      "execution_count": null,
      "outputs": [
        {
          "output_type": "execute_result",
          "data": {
            "text/plain": [
              "75"
            ]
          },
          "metadata": {},
          "execution_count": 5
        }
      ]
    },
    {
      "cell_type": "markdown",
      "source": [
        "Markov chain model"
      ],
      "metadata": {
        "id": "vY1IIUwhP9Li"
      }
    },
    {
      "cell_type": "code",
      "source": [
        "markov_chain = build_markov_chain(text)"
      ],
      "metadata": {
        "id": "avuYC9Ge0dI8"
      },
      "execution_count": null,
      "outputs": []
    },
    {
      "cell_type": "markdown",
      "source": [
        "Generating the output text"
      ],
      "metadata": {
        "id": "9D_Y9bA4QA1K"
      }
    },
    {
      "cell_type": "code",
      "source": [
        "generated_text = generate_text(markov_chain, length=30)"
      ],
      "metadata": {
        "id": "EBiQ_ursztIL"
      },
      "execution_count": null,
      "outputs": []
    },
    {
      "cell_type": "code",
      "source": [
        "print(generated_text)"
      ],
      "metadata": {
        "colab": {
          "base_uri": "https://localhost:8080/"
        },
        "id": "F_XE9cDDQIwh",
        "outputId": "7ed2a319-620e-4f63-c4ec-72441e335083"
      },
      "execution_count": null,
      "outputs": [
        {
          "output_type": "stream",
          "name": "stdout",
          "text": [
            "the lazy dog barks at the lazy dog The lazy dog The quick brown fox jumps over the lazy dog The lazy dog barks at the fox jumps over the fox\n"
          ]
        }
      ]
    }
  ]
}